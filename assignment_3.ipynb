{
 "cells": [
  {
   "cell_type": "code",
   "execution_count": null,
   "metadata": {},
   "outputs": [],
   "source": [
    "Q1 1. What are the benefits of including roles in the programmes?\n",
    "\n",
    "ans-Functions reduce the need for duplicate code. This makes programs shorter, \n",
    "      easier to read, and easier to update"
   ]
  },
  {
   "cell_type": "code",
   "execution_count": null,
   "metadata": {},
   "outputs": [],
   "source": [
    "Q2  - When does the code in a function run: when it's specified or when it's called?\n",
    "\n",
    "ans - The code in a function executes when the function is called, not when the function is defined."
   ]
  },
  {
   "cell_type": "code",
   "execution_count": null,
   "metadata": {},
   "outputs": [],
   "source": [
    "Q3 - . What statement causes a feature to be created?\n",
    "\n",
    "ans -  The def statement defines (that is, creates) a function."
   ]
  },
  {
   "cell_type": "code",
   "execution_count": null,
   "metadata": {},
   "outputs": [],
   "source": [
    "Q4 - What is the distinction between a function and a call to a function?\n",
    "\n",
    "ans  A function consists of the def statement and the code in its def clause.\n",
    "      A function call is what moves the program execution into the function, and \n",
    "       the function call evaluates to the function’s return value."
   ]
  },
  {
   "cell_type": "code",
   "execution_count": null,
   "metadata": {},
   "outputs": [],
   "source": [
    "Q5 - In a Python application, how many global scopes are there? How many local scopes are there?\n",
    "\n",
    "ans - There is one global scope, and a local scope is created whenever a function is called."
   ]
  },
  {
   "cell_type": "code",
   "execution_count": null,
   "metadata": {},
   "outputs": [],
   "source": [
    "Q6 -  When a function call returns, what happens to variables in the local scope?\n",
    "\n",
    "ans - When a function returns, the local scope is destroyed, and all the variables in it are forgotten."
   ]
  },
  {
   "cell_type": "code",
   "execution_count": null,
   "metadata": {},
   "outputs": [],
   "source": [
    "Q7 -What is the concept of a return value? Is it possible to have a return value in an expression?\n",
    "\n",
    "ans - A return value is the value that a function call evaluates to. Like any value,\n",
    "       a return value can be used as part of an expression."
   ]
  },
  {
   "cell_type": "code",
   "execution_count": null,
   "metadata": {},
   "outputs": [],
   "source": [
    "Q8 - What is the return value of a call to a function that does not have a return statement?\n",
    "\n",
    "ans -If there is no return statement for a function, its return value is None."
   ]
  },
  {
   "cell_type": "code",
   "execution_count": null,
   "metadata": {},
   "outputs": [],
   "source": [
    "Q9 - How do you make a function variable refer to the global variable?\n",
    "\n",
    "ans - A global statement will force a variable in a function to refer to the global variable."
   ]
  },
  {
   "cell_type": "code",
   "execution_count": null,
   "metadata": {},
   "outputs": [],
   "source": [
    "Q10 - What data form does None belong to?\n",
    "\n",
    "ans -The data type of None is NoneType."
   ]
  },
  {
   "cell_type": "code",
   "execution_count": null,
   "metadata": {},
   "outputs": [],
   "source": [
    "Q11 -  What does the sentence import areallyourpetsnamederic do?\n",
    "\n",
    "ans - That import statement imports a module named areallyourpetsnamederic. (This isn’t a real Python module, by the way.)"
   ]
  },
  {
   "cell_type": "code",
   "execution_count": null,
   "metadata": {},
   "outputs": [],
   "source": [
    "Q12 If you had a bacon() feature in a spam module, what would you call it after importing spam?\n",
    "\n",
    "ans - This function can be called with spam.bacon()."
   ]
  },
  {
   "cell_type": "code",
   "execution_count": null,
   "metadata": {},
   "outputs": [],
   "source": [
    "Q13 - . What can you do to save a programme from crashing if it encounters an error?\n",
    "\n",
    "ans - Place the line of code that might cause an error in a try clause."
   ]
  },
  {
   "cell_type": "code",
   "execution_count": null,
   "metadata": {},
   "outputs": [],
   "source": [
    "Q14  What is the purpose of the try clause? What is the purpose of the except clause?\n",
    "\n",
    "ans-  The code that could potentially cause an error goes in the try clause.\n",
    "      The code that executes if an error happens goes in the except clause."
   ]
  }
 ],
 "metadata": {
  "kernelspec": {
   "display_name": "Python 3",
   "language": "python",
   "name": "python3"
  },
  "language_info": {
   "codemirror_mode": {
    "name": "ipython",
    "version": 3
   },
   "file_extension": ".py",
   "mimetype": "text/x-python",
   "name": "python",
   "nbconvert_exporter": "python",
   "pygments_lexer": "ipython3",
   "version": "3.8.5"
  }
 },
 "nbformat": 4,
 "nbformat_minor": 4
}
